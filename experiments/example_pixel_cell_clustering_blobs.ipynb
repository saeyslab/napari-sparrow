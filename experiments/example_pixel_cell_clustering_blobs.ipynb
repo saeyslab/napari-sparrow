{
 "cells": [
  {
   "cell_type": "code",
   "execution_count": null,
   "metadata": {},
   "outputs": [],
   "source": [
    "%load_ext autoreload\n",
    "%autoreload 2"
   ]
  },
  {
   "cell_type": "code",
   "execution_count": null,
   "metadata": {},
   "outputs": [],
   "source": [
    "import sparrow as sp"
   ]
  },
  {
   "cell_type": "markdown",
   "metadata": {},
   "source": [
    "Pixel clustering"
   ]
  },
  {
   "cell_type": "code",
   "execution_count": null,
   "metadata": {},
   "outputs": [],
   "source": [
    "from sparrow.table.pixel_clustering._cluster_intensity import _export_to_ark_format as _export_to_ark_format_pixels\n",
    "\n",
    "# output path\n",
    "path = \"/Users/arnedf/VIB/DATA/ark_analysis\"\n",
    "\n",
    "sdata = sp.datasets.cluster_blobs(\n",
    "    shape=(512, 512), n_cell_types=10, n_cells=100, noise_level_channels=1.2, noise_level_nuclei=1.2, seed=10\n",
    ")\n",
    "\n",
    "img_layer = \"blobs_image\"\n",
    "labels_layer = \"blobs_labels\"\n",
    "channels = [\"lineage_0\", \"lineage_1\", \"lineage_5\", \"lineage_9\"]\n",
    "\n",
    "sdata = sp.im.pixel_clustering_preprocess(\n",
    "    sdata,\n",
    "    img_layer=[img_layer],\n",
    "    output_layer=[f\"{img_layer}_preprocessed\"],\n",
    "    channels=channels,\n",
    "    chunks=512,\n",
    "    overwrite=True,\n",
    "    sigma=0.0,\n",
    ")\n",
    "\n",
    "sdata, fsom, mapping = sp.im.flowsom(\n",
    "    sdata,\n",
    "    img_layer=[f\"{img_layer}_preprocessed\"],\n",
    "    output_layer_clusters=[f\"{img_layer}_flowsom_clusters\"],\n",
    "    output_layer_metaclusters=[f\"{img_layer}_flowsom_metaclusters\"],\n",
    "    n_clusters=20,\n",
    "    random_state=111,\n",
    "    fraction=0.5,\n",
    "    chunks=512,\n",
    "    overwrite=True,\n",
    ")\n",
    "\n",
    "sdata = sp.tb.cluster_intensity(\n",
    "    sdata,\n",
    "    mapping=mapping,\n",
    "    img_layer=f\"{img_layer}_preprocessed\",\n",
    "    labels_layer=f\"{img_layer}_flowsom_clusters\",\n",
    "    output_layer=\"counts_clusters\",\n",
    "    overwrite=True,\n",
    ")\n",
    "# TODO: to visualize in napari spatialdata, this counts_clusters table layer needs to be removed from the sdata, because napari-spatialdata does not support viewing sdata that contain tables not linked to elements yet.\n",
    "\n",
    "df = _export_to_ark_format_pixels(adata=sdata[\"counts_clusters\"], output=path)"
   ]
  },
  {
   "cell_type": "markdown",
   "metadata": {},
   "source": [
    "Cell clustering"
   ]
  },
  {
   "cell_type": "code",
   "execution_count": null,
   "metadata": {},
   "outputs": [],
   "source": [
    "from sparrow.table.cell_clustering._utils import _export_to_ark_format as _export_to_ark_format_cells\n",
    "from sparrow.utils._keys import ClusteringKey\n",
    "\n",
    "sdata, fsom = sp.tb.flowsom(\n",
    "    sdata,\n",
    "    labels_layer_cells=[labels_layer],\n",
    "    labels_layer_clusters=f\"{img_layer}_flowsom_metaclusters\",\n",
    "    chunks=(200, 200),\n",
    "    output_layer=\"table_cell_clustering\",\n",
    "    n_clusters=20,\n",
    "    overwrite=True,\n",
    ")\n",
    "\n",
    "sdata = sp.tb.weighted_channel_expression(\n",
    "    sdata,\n",
    "    table_layer_cell_clustering=\"table_cell_clustering\",\n",
    "    table_layer_pixel_cluster_intensity=\"counts_clusters\",\n",
    "    output_layer=\"table_cell_clustering\",\n",
    "    clustering_key=ClusteringKey._METACLUSTERING_KEY,\n",
    "    overwrite=True,\n",
    ")\n",
    "\n",
    "(\n",
    "    df_cell_som_cluster_count_avg,\n",
    "    df_cell_som_cluster_channel_avg,\n",
    "    df_cell_meta_cluster_channel_avg,\n",
    ") = _export_to_ark_format_cells(sdata, table_layer=\"table_cell_clustering\", output=path)"
   ]
  },
  {
   "cell_type": "markdown",
   "metadata": {},
   "source": [
    "Next in an environment where ark is installed run the following cells in a jupyter notebook to visualize heatmaps of pixel and cell clustering:"
   ]
  },
  {
   "cell_type": "markdown",
   "metadata": {},
   "source": [
    "### Pixel meta clusters"
   ]
  },
  {
   "cell_type": "code",
   "execution_count": null,
   "metadata": {},
   "outputs": [],
   "source": [
    "%matplotlib widget\n",
    "\n",
    "import os\n",
    "\n",
    "import matplotlib.pyplot as plt\n",
    "from ark.utils.metacluster_remap_gui import MetaClusterGui, metaclusterdata_from_files\n",
    "from matplotlib import rc_file_defaults\n",
    "\n",
    "output_file = os.path.join(path, \"average_intensities_SOM_clusters.csv\")\n",
    "\n",
    "rc_file_defaults()\n",
    "plt.ion()\n",
    "\n",
    "\n",
    "pixel_mcd = metaclusterdata_from_files(output_file, cluster_type=\"pixel\")\n",
    "pixel_mcd.output_mapping_filename = os.path.join(path, \"pixel_meta_cluster_mapping.csv\")\n",
    "pixel_mcg = MetaClusterGui(pixel_mcd, width=17)"
   ]
  },
  {
   "cell_type": "markdown",
   "metadata": {},
   "source": [
    "### Cell clustering visualization"
   ]
  },
  {
   "cell_type": "code",
   "execution_count": null,
   "metadata": {},
   "outputs": [],
   "source": [
    "%matplotlib widget\n",
    "\n",
    "import os\n",
    "\n",
    "import matplotlib.pyplot as plt\n",
    "from ark.utils.metacluster_remap_gui import MetaClusterGui, metaclusterdata_from_files\n",
    "from matplotlib import rc_file_defaults\n",
    "\n",
    "path = \"/Users/arnedf/VIB/DATA/ark_analysis\"\n",
    "output_file = os.path.join(path, \"cell_som_cluster_count_avg.csv\")\n",
    "\n",
    "rc_file_defaults()\n",
    "plt.ion()\n",
    "\n",
    "cell_mcd = metaclusterdata_from_files(\n",
    "    output_file,\n",
    "    cluster_type=\"cell\",\n",
    "    # prefix_trim=pixel_cluster_col + '_'\n",
    ")\n",
    "cell_mcd.output_mapping_filename = os.path.join(path, \"cell_meta_cluster_mapping.csv\")\n",
    "cell_mcg = MetaClusterGui(cell_mcd, width=17)"
   ]
  },
  {
   "cell_type": "code",
   "execution_count": null,
   "metadata": {},
   "outputs": [],
   "source": [
    "from ark.utils.metacluster_remap_gui import colormap_helper\n",
    "\n",
    "raw_cmap, renamed_cmap = colormap_helper.generate_meta_cluster_colormap_dict(\n",
    "    cell_mcd.output_mapping_filename, cell_mcg.im_cl.cmap, cluster_type=\"cell\"\n",
    ")"
   ]
  },
  {
   "cell_type": "markdown",
   "metadata": {},
   "source": [
    "### Weighted cell SOM cluster average heatmap over channels (z-scored)"
   ]
  },
  {
   "cell_type": "code",
   "execution_count": null,
   "metadata": {},
   "outputs": [],
   "source": [
    "import pandas as pd\n",
    "from ark.phenotyping import weighted_channel_comp\n",
    "\n",
    "path = \"/Users/arnedf/VIB/DATA/ark_analysis\"\n",
    "output_file = os.path.join(path, \"cell_clustering_channel_avg.csv\")\n",
    "\n",
    "channels = df = pd.read_csv(output_file).columns\n",
    "channels = [\n",
    "    channel\n",
    "    for channel in channels\n",
    "    if channel not in [\"cell_som_cluster\", \"cell_meta_cluster\", \"cell_meta_cluster_rename\"]\n",
    "]\n",
    "\n",
    "weighted_channel_comp.generate_weighted_channel_avg_heatmap(\n",
    "    output_file, \"cell_som_cluster\", channels, raw_cmap, renamed_cmap\n",
    ")"
   ]
  },
  {
   "cell_type": "markdown",
   "metadata": {},
   "source": [
    "### Weighted cell meta cluster average heatmap over channels (z-scored)"
   ]
  },
  {
   "cell_type": "code",
   "execution_count": null,
   "metadata": {},
   "outputs": [],
   "source": [
    "from ark.phenotyping import weighted_channel_comp\n",
    "\n",
    "path = \"/Users/arnedf/VIB/DATA/ark_analysis\"\n",
    "output_file = os.path.join(path, \"cell_metaclustering_channel_avg.csv\")\n",
    "\n",
    "weighted_channel_comp.generate_weighted_channel_avg_heatmap(\n",
    "    output_file, \"cell_meta_cluster_rename\", channels, raw_cmap, renamed_cmap\n",
    ")"
   ]
  }
 ],
 "metadata": {
  "kernelspec": {
   "display_name": "harpy",
   "language": "python",
   "name": "python3"
  },
  "language_info": {
   "codemirror_mode": {
    "name": "ipython",
    "version": 3
   },
   "file_extension": ".py",
   "mimetype": "text/x-python",
   "name": "python",
   "nbconvert_exporter": "python",
   "pygments_lexer": "ipython3",
   "version": "3.10.8"
  }
 },
 "nbformat": 4,
 "nbformat_minor": 2
}
